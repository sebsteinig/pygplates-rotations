{
 "cells": [
  {
   "cell_type": "markdown",
   "id": "e3e04fe8-9fb9-4e10-8c80-1143682b3ffc",
   "metadata": {},
   "source": [
    "# pyGPlates site reconstructions\n",
    "Reconstruct paleolocations of present-day locations across the Phanerozoic. PyGplates allows to use some of the functionality of the GUI GPlates software within python scripts. This allows scripting to automatically process many different locations and/or time periods. Different rotation models can be used and are easily exchangeable. I currently use the PALEOMAP rotation model that is consistent to the Bristol Scotese simulations by Paul Valdes."
   ]
  },
  {
   "cell_type": "markdown",
   "id": "6e991c20-c7f3-4233-b143-44411c613f9d",
   "metadata": {},
   "source": [
    "## User input\n",
    "define variables/lists to quickly change inputs to the notebook"
   ]
  },
  {
   "cell_type": "code",
   "execution_count": 1,
   "id": "44853eaf-bc9c-4f72-8328-a83d9653ffc2",
   "metadata": {},
   "outputs": [],
   "source": [
    "# input csv file with target age, modern latitude, modern longitude\n",
    "csv_input = 'forcordall.csv'\n"
   ]
  },
  {
   "cell_type": "markdown",
   "id": "599af786-b4f7-450d-b80b-884a0c402067",
   "metadata": {},
   "source": [
    "## import pygplates and other packages"
   ]
  },
  {
   "cell_type": "code",
   "execution_count": 51,
   "id": "f7c604eb-26b6-45c9-aa30-a255373b6044",
   "metadata": {},
   "outputs": [],
   "source": [
    "import os\n",
    "import sys\n",
    "import pandas as pd\n",
    "import numpy as np\n",
    "from tqdm import tqdm  # Import tqdm\n",
    "\n",
    "sys.path.insert(0, os.path.abspath('./bin/pygplates_0.36.0_py37_Darwin-x86_64')) # macOS Arm\n",
    "import pygplates\n"
   ]
  },
  {
   "cell_type": "markdown",
   "id": "f8f03dcd-f01a-47e6-bcf5-3b6684cf28fa",
   "metadata": {},
   "source": [
    "## load plate model\n",
    "List of available models at http://portal.gplates.org/portal/rotation_models/.\n",
    "Here we are using the 'PALEOMAP PaleoAtlas for GPlates'by Scotese et al. (https://www.earthbyte.org/paleomap-paleoatlas-for-gplates/)"
   ]
  },
  {
   "cell_type": "code",
   "execution_count": 10,
   "id": "WcMt0hmK_38Q",
   "metadata": {
    "colab": {
     "base_uri": "https://localhost:8080/"
    },
    "id": "WcMt0hmK_38Q",
    "outputId": "1ca62e3a-a818-48f8-aea4-d2827f558cdb"
   },
   "outputs": [],
   "source": [
    "# static polygons are the 'partitioning features'\n",
    "static_polygons = pygplates.FeatureCollection('PALEOMAP_Global_Plate_Model/PALEOMAP_PlatePolygons.gpml')\n",
    "# actual rotation model\n",
    "rotation_model=pygplates.RotationModel('PALEOMAP_Global_Plate_Model/PALEOMAP_PlateModel.rot')"
   ]
  },
  {
   "cell_type": "markdown",
   "id": "9cea8cfa-504b-4fd2-a6fb-fbe02829d363",
   "metadata": {},
   "source": [
    "## Main code\n",
    "3-step process to reconstruct paleolocations:\n",
    "1. combine input points into feature collection\n",
    "2. assign plate ids to feature\n",
    "3. reconstruct paleolocations for feature"
   ]
  },
  {
   "cell_type": "code",
   "execution_count": 55,
   "id": "bd729772-cf62-44b4-9803-aa4646174491",
   "metadata": {},
   "outputs": [
    {
     "name": "stderr",
     "output_type": "stream",
     "text": [
      "Reconstructing paleolocations: 100%|██████████| 107685/107685 [29:58<00:00, 59.89locations/s] \n"
     ]
    },
    {
     "name": "stdout",
     "output_type": "stream",
     "text": [
      "Reconstructed coordinates have been saved to 'forcordall_reconstructed.csv'\n"
     ]
    }
   ],
   "source": [
    "# load point coordinates\n",
    "# df_sites = pd.read_csv('data/' + csv_input,sep=',', nrows = 1000)\n",
    "df_sites = pd.read_csv('data/' + csv_input,sep=',')\n",
    "\n",
    "reconstructed_lats = []\n",
    "reconstructed_lons = []\n",
    "\n",
    "# loop over each row and get paleolocation\n",
    "for index, row in tqdm(df_sites.iterrows(), total=df_sites.shape[0], desc='Reconstructing paleolocations', unit='locations'):  # tqdm wrapper around the iterator\n",
    "    mlat = float(df_sites['ModLat'].iloc[index])\n",
    "    mlon = float(df_sites['ModLon'].iloc[index])\n",
    "    age = float(df_sites['Age'].iloc[index])\n",
    "\n",
    "    #### step 1: put the point into a feature collection, using Lat,Lon coordinates from dataframe\n",
    "    point_features = []\n",
    "    point = pygplates.PointOnSphere(mlat, mlon)\n",
    "    point_feature = pygplates.Feature()\n",
    "    point_feature.set_geometry(point)\n",
    "\n",
    "    ### step 2: assign plate ids to feature\n",
    "    # To reconstruct any feature geometries, each feature must have a plate id assigned. If they don't already, \n",
    "    # then the pygplates function 'PlatePartitioner' performs this function (analogous to the 'assign plate ids' \n",
    "    # menu option in GPlates GUI) \n",
    "    partitioned_point_feature = pygplates.partition_into_plates(static_polygons, rotation_model, point_feature) \n",
    "\n",
    "    ### step 3:Reconstruct the point features\n",
    "    reconstructed_feature_geometry = []\n",
    "    pygplates.reconstruct(partitioned_point_feature, rotation_model, reconstructed_feature_geometry, age)\n",
    "    \n",
    "    plat, plon = np.round(reconstructed_feature_geometry[0].get_reconstructed_geometry().to_lat_lon(),1)\n",
    "    reconstructed_lats.append(plat)\n",
    "    reconstructed_lons.append(plon)\n",
    "\n",
    "    # # Each reconstructed geometry should be a point - return a list of all reconstructed points.\n",
    "    # print(f'Coordinates of the reconstructed point with ModernLat: {mlat} / ModernLon: {mlon}', \\\n",
    "    #     reconstructed_feature_geometry[0].get_reconstructed_geometry().to_lat_lon() )\n",
    "\n",
    "# Add the reconstructed data to the DataFrame\n",
    "df_sites['PaleoLat'] = reconstructed_lats\n",
    "df_sites['PaleoLon'] = reconstructed_lons\n",
    "\n",
    "# Save the DataFrame to a new CSV file\n",
    "df_sites.to_csv('data/forcordall_reconstructed.csv', index=False)\n",
    "\n",
    "print(\"Reconstructed coordinates have been saved to 'forcordall_reconstructed.csv'\")"
   ]
  }
 ],
 "metadata": {
  "colab": {
   "collapsed_sections": [],
   "include_colab_link": true,
   "provenance": []
  },
  "jupytext": {
   "formats": "ipynb,py:light"
  },
  "kernelspec": {
   "display_name": "Python 3 (ipykernel)",
   "language": "python",
   "name": "python3"
  },
  "language_info": {
   "codemirror_mode": {
    "name": "ipython",
    "version": 3
   },
   "file_extension": ".py",
   "mimetype": "text/x-python",
   "name": "python",
   "nbconvert_exporter": "python",
   "pygments_lexer": "ipython3",
   "version": "3.7.0"
  }
 },
 "nbformat": 4,
 "nbformat_minor": 5
}
